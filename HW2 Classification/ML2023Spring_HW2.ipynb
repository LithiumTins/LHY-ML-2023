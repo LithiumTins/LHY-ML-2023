{
  "cells": [
    {
      "cell_type": "markdown",
      "metadata": {
        "id": "OYlaRwNu7ojq"
      },
      "source": [
        "# **Homework 2: Phoneme Classification**\n"
      ]
    },
    {
      "cell_type": "markdown",
      "metadata": {
        "id": "A7DRC5V7_8A5"
      },
      "source": [
        "Objectives:\n",
        "* Solve a classification problem with deep neural networks (DNNs).\n",
        "* Understand recursive neural networks (RNNs).\n",
        "\n",
        "If you have any questions, please contact the TAs via TA hours, NTU COOL, or email to mlta-2023-spring@googlegroups.com"
      ]
    },
    {
      "cell_type": "markdown",
      "metadata": {
        "id": "KVUGfWTo7_Oj"
      },
      "source": [
        "# Download Data\n",
        "Download data from google drive, then unzip it.\n",
        "\n",
        "You should have\n",
        "- `libriphone/train_split.txt`: training metadata\n",
        "- `libriphone/train_labels`: training labels\n",
        "- `libriphone/test_split.txt`: testing metadata\n",
        "- `libriphone/feat/train/*.pt`: training feature\n",
        "- `libriphone/feat/test/*.pt`:  testing feature\n",
        "\n",
        "after running the following block.\n",
        "\n",
        "> **Notes: if the google drive link is dead, you can download the data directly from [Kaggle](https://www.kaggle.com/c/ml2023spring-hw2/data) and upload it to the workspace.**\n"
      ]
    },
    {
      "cell_type": "code",
      "execution_count": 104,
      "metadata": {
        "id": "OzkiMEcC3Foq"
      },
      "outputs": [],
      "source": [
        "# !pip install --upgrade gdown\n",
        "\n",
        "# # Main link\n",
        "# !gdown --id '1N1eVIDe9hKM5uiNRGmifBlwSDGiVXPJe' --output libriphone.zip\n",
        "# # !gdown --id '1qzCRnywKh30mTbWUEjXuNT2isOCAPdO1' --output libriphone.zip\n",
        "\n",
        "# !unzip -q libriphone.zip\n",
        "# !ls libriphone"
      ]
    },
    {
      "cell_type": "markdown",
      "metadata": {
        "id": "pADUiYODJE1O"
      },
      "source": [
        "# Some Utility Functions\n",
        "**Fixes random number generator seeds for reproducibility.**"
      ]
    },
    {
      "cell_type": "code",
      "execution_count": 105,
      "metadata": {
        "id": "BsZKgBZQJjaE"
      },
      "outputs": [],
      "source": [
        "import numpy as np\n",
        "import torch\n",
        "import random\n",
        "\n",
        "def same_seeds(seed):\n",
        "    random.seed(seed) \n",
        "    np.random.seed(seed)  \n",
        "    torch.manual_seed(seed)\n",
        "    if torch.cuda.is_available():\n",
        "        torch.cuda.manual_seed(seed)\n",
        "        torch.cuda.manual_seed_all(seed) \n",
        "    torch.backends.cudnn.benchmark = False\n",
        "    torch.backends.cudnn.deterministic = True"
      ]
    },
    {
      "cell_type": "markdown",
      "metadata": {
        "id": "_L_4anls8Drv"
      },
      "source": [
        "**Helper functions to pre-process the training data from raw MFCC features of each utterance.**\n",
        "\n",
        "A phoneme may span several frames and is dependent to past and future frames. \\\n",
        "Hence we concatenate neighboring phonemes for training to achieve higher accuracy. The **concat_feat** function concatenates past and future k frames (total 2k+1 = n frames), and we predict the center frame.\n",
        "\n",
        "Feel free to modify the data preprocess functions, but **do not drop any frame** (if you modify the functions, remember to check that the number of frames are the same as mentioned in the slides)"
      ]
    },
    {
      "cell_type": "code",
      "execution_count": 106,
      "metadata": {
        "id": "IJjLT8em-y9G"
      },
      "outputs": [],
      "source": [
        "import os\n",
        "import torch\n",
        "from tqdm import tqdm\n",
        "\n",
        "def load_feat(path):\n",
        "    feat = torch.load(path)\n",
        "    return feat\n",
        "\n",
        "def shift(x, n):\n",
        "    if n < 0:\n",
        "        left = x[0].repeat(-n, 1)\n",
        "        right = x[:n]\n",
        "    elif n > 0:\n",
        "        right = x[-1].repeat(n, 1)\n",
        "        left = x[n:]\n",
        "    else:\n",
        "        return x\n",
        "\n",
        "    return torch.cat((left, right), dim=0)\n",
        "\n",
        "def concat_feat(x, concat_n):\n",
        "    assert concat_n % 2 == 1 # n must be odd\n",
        "    if concat_n < 2:\n",
        "        return x\n",
        "    seq_len, feature_dim = x.size(0), x.size(1)\n",
        "    x = x.repeat(1, concat_n) \n",
        "    x = x.view(seq_len, concat_n, feature_dim).permute(1, 0, 2) # concat_n, seq_len, feature_dim\n",
        "    mid = (concat_n // 2)\n",
        "    for r_idx in range(1, mid+1):\n",
        "        x[mid + r_idx, :] = shift(x[mid + r_idx], r_idx)\n",
        "        x[mid - r_idx, :] = shift(x[mid - r_idx], -r_idx)\n",
        "\n",
        "    return x.permute(1, 0, 2).view(seq_len, concat_n * feature_dim)\n",
        "\n",
        "def preprocess_data(split, feat_dir, phone_path, concat_nframes, train_ratio=0.8):\n",
        "    class_num = 41 # NOTE: pre-computed, should not need change\n",
        "\n",
        "    if split == 'train' or split == 'val':\n",
        "        mode = 'train'\n",
        "    elif split == 'test':\n",
        "        mode = 'test'\n",
        "    else:\n",
        "        raise ValueError('Invalid \\'split\\' argument for dataset: PhoneDataset!')\n",
        "\n",
        "    label_dict = {}\n",
        "    if mode == 'train':\n",
        "        for line in open(os.path.join(phone_path, f'{mode}_labels.txt')).readlines():\n",
        "            line = line.strip('\\n').split(' ')\n",
        "            label_dict[line[0]] = [int(p) for p in line[1:]]\n",
        "        \n",
        "        # split training and validation data\n",
        "        usage_list = open(os.path.join(phone_path, 'train_split.txt')).readlines()\n",
        "        random.shuffle(usage_list)\n",
        "        train_len = int(len(usage_list) * train_ratio)\n",
        "        train_list = usage_list[:train_len]\n",
        "        val_list = usage_list[train_len:]\n",
        "\n",
        "    elif mode == 'test':\n",
        "        test_list = open(os.path.join(phone_path, 'test_split.txt')).readlines()\n",
        "\n",
        "    def transform_data(usage_list, split):\n",
        "        usage_list = [line.strip('\\n') for line in usage_list]\n",
        "        print('[Dataset] - # phone classes: ' + str(class_num) + ', number of utterances for ' + split + ': ' + str(len(usage_list)))\n",
        "\n",
        "        max_len = 3000000\n",
        "        X = torch.empty(max_len, 39 * concat_nframes)\n",
        "        if mode == 'train':\n",
        "            y = torch.empty(max_len, dtype=torch.long)\n",
        "\n",
        "        idx = 0\n",
        "        for i, fname in tqdm(enumerate(usage_list)):\n",
        "            feat = load_feat(os.path.join(feat_dir, mode, f'{fname}.pt'))\n",
        "            cur_len = len(feat)\n",
        "            feat = concat_feat(feat, concat_nframes)\n",
        "            if mode == 'train':\n",
        "                label = torch.LongTensor(label_dict[fname])\n",
        "\n",
        "            X[idx: idx + cur_len, :] = feat\n",
        "            if mode == 'train':\n",
        "                y[idx: idx + cur_len] = label\n",
        "\n",
        "            idx += cur_len\n",
        "\n",
        "        X = X[:idx, :]\n",
        "        if mode == 'train':\n",
        "            y = y[:idx]\n",
        "\n",
        "        print(f'[INFO] {split} set')\n",
        "        print(X.shape)\n",
        "        if mode == 'train':\n",
        "            print(y.shape)\n",
        "            return X, y\n",
        "        else:\n",
        "            return X\n",
        "    \n",
        "    if mode == 'test':\n",
        "        return transform_data(test_list, \"test\")\n",
        "    \n",
        "    return *transform_data(train_list, \"train\"), *transform_data(val_list, \"val\")"
      ]
    },
    {
      "cell_type": "markdown",
      "metadata": {
        "id": "us5XW_x6udZQ"
      },
      "source": [
        "# Dataset"
      ]
    },
    {
      "cell_type": "code",
      "execution_count": 107,
      "metadata": {
        "id": "Fjf5EcmJtf4e"
      },
      "outputs": [],
      "source": [
        "import torch\n",
        "from torch.utils.data import Dataset\n",
        "\n",
        "class LibriDataset(Dataset):\n",
        "    def __init__(self, X, y=None):\n",
        "        self.data = X\n",
        "        if y is not None:\n",
        "            self.label = torch.LongTensor(y)\n",
        "        else:\n",
        "            self.label = None\n",
        "\n",
        "    def __getitem__(self, idx):\n",
        "        if self.label is not None:\n",
        "            return self.data[idx], self.label[idx]\n",
        "        else:\n",
        "            return self.data[idx]\n",
        "\n",
        "    def __len__(self):\n",
        "        return len(self.data)\n"
      ]
    },
    {
      "cell_type": "markdown",
      "metadata": {
        "id": "IRqKNvNZwe3V"
      },
      "source": [
        "# Model\n",
        "Feel free to modify the structure of the model."
      ]
    },
    {
      "cell_type": "code",
      "execution_count": null,
      "metadata": {
        "id": "Bg-GRd7ywdrL"
      },
      "outputs": [],
      "source": [
        "import torch.nn as nn\n",
        "\n",
        "class BasicBlock(nn.Module):\n",
        "    def __init__(self, input_dim, output_dim, dropout):\n",
        "        super(BasicBlock, self).__init__()\n",
        "\n",
        "        # TODO: apply batch normalization and dropout for strong baseline.\n",
        "        # Reference: https://pytorch.org/docs/stable/generated/torch.nn.BatchNorm1d.html (batch normalization)\n",
        "        #       https://pytorch.org/docs/stable/generated/torch.nn.Dropout.html (dropout)\n",
        "        self.block = nn.Sequential(\n",
        "            nn.Linear(input_dim, output_dim),\n",
        "            nn.BatchNorm1d(output_dim),\n",
        "            nn.ReLU(),\n",
        "            nn.Dropout(dropout)\n",
        "        )\n",
        "\n",
        "    def forward(self, x):\n",
        "        x = self.block(x)\n",
        "        return x\n",
        "\n",
        "\n",
        "class Classifier(nn.Module):\n",
        "    def __init__(self, input_dim, output_dim=41, hidden_layers=1, hidden_dim=256):\n",
        "        super(Classifier, self).__init__()\n",
        "\n",
        "        self.fc = nn.Sequential(\n",
        "            BasicBlock(input_dim, hidden_dim, 0.3),\n",
        "            *[BasicBlock(hidden_dim, hidden_dim, 0.5) for _ in range(hidden_layers)],\n",
        "            nn.Linear(hidden_dim, output_dim)\n",
        "        )\n",
        "\n",
        "    def forward(self, x):\n",
        "        x = self.fc(x)\n",
        "        return x"
      ]
    },
    {
      "cell_type": "markdown",
      "metadata": {
        "id": "TlIq8JeqvvHC"
      },
      "source": [
        "# Hyper-parameters"
      ]
    },
    {
      "cell_type": "code",
      "execution_count": null,
      "metadata": {
        "id": "iIHn79Iav1ri"
      },
      "outputs": [],
      "source": [
        "# data prarameters\n",
        "# TODO: change the value of \"concat_nframes\" for medium baseline\n",
        "concat_nframes = 23   # the number of frames to concat with, n must be odd (total 2k+1 = n frames)\n",
        "train_ratio = 0.75   # the ratio of data used for training, the rest will be used for validation\n",
        "\n",
        "# training parameters\n",
        "seed = 1213          # random seed\n",
        "batch_size = 512        # batch size\n",
        "num_epoch = 500         # the number of training epoch\n",
        "learning_rate = 1e-4      # learning rate\n",
        "model_path = './model.ckpt'  # the path where the checkpoint will be saved\n",
        "\n",
        "# model parameters\n",
        "# TODO: change the value of \"hidden_layers\" or \"hidden_dim\" for medium baseline\n",
        "input_dim = 39 * concat_nframes  # the input dim of the model, you should not change the value\n",
        "hidden_layers = 3          # the number of hidden layers\n",
        "hidden_dim = 1024           # the hidden dim"
      ]
    },
    {
      "cell_type": "markdown",
      "metadata": {
        "id": "IIUFRgG5yoDn"
      },
      "source": [
        "# Dataloader"
      ]
    },
    {
      "cell_type": "code",
      "execution_count": 110,
      "metadata": {
        "id": "c1zI3v5jyrDn"
      },
      "outputs": [
        {
          "name": "stdout",
          "output_type": "stream",
          "text": [
            "DEVICE: cuda\n",
            "[Dataset] - # phone classes: 41, number of utterances for train: 2571\n"
          ]
        },
        {
          "name": "stderr",
          "output_type": "stream",
          "text": [
            "2571it [00:05, 460.73it/s]\n"
          ]
        },
        {
          "name": "stdout",
          "output_type": "stream",
          "text": [
            "[INFO] train set\n",
            "torch.Size([1588590, 897])\n",
            "torch.Size([1588590])\n",
            "[Dataset] - # phone classes: 41, number of utterances for val: 858\n"
          ]
        },
        {
          "name": "stderr",
          "output_type": "stream",
          "text": [
            "858it [00:01, 429.18it/s]\n"
          ]
        },
        {
          "name": "stdout",
          "output_type": "stream",
          "text": [
            "[INFO] val set\n",
            "torch.Size([528204, 897])\n",
            "torch.Size([528204])\n"
          ]
        }
      ],
      "source": [
        "from torch.utils.data import DataLoader\n",
        "import gc\n",
        "\n",
        "same_seeds(seed)\n",
        "device = 'cuda' if torch.cuda.is_available() else 'cpu'\n",
        "print(f'DEVICE: {device}')\n",
        "\n",
        "# preprocess data\n",
        "train_X, train_y, val_X, val_y = preprocess_data(split='train', feat_dir='./libriphone/feat', phone_path='./libriphone', concat_nframes=concat_nframes, train_ratio=train_ratio)\n",
        "\n",
        "# get dataset\n",
        "train_set = LibriDataset(train_X, train_y)\n",
        "val_set = LibriDataset(val_X, val_y)\n",
        "\n",
        "# remove raw feature to save memory\n",
        "del train_X, train_y, val_X, val_y\n",
        "gc.collect()\n",
        "\n",
        "# get dataloader\n",
        "train_loader = DataLoader(train_set, batch_size=batch_size, shuffle=True)\n",
        "val_loader = DataLoader(val_set, batch_size=batch_size, shuffle=False)"
      ]
    },
    {
      "cell_type": "markdown",
      "metadata": {
        "id": "pwWH1KIqzxEr"
      },
      "source": [
        "# Training"
      ]
    },
    {
      "cell_type": "code",
      "execution_count": 111,
      "metadata": {
        "id": "CdMWsBs7zzNs"
      },
      "outputs": [
        {
          "name": "stderr",
          "output_type": "stream",
          "text": [
            "  0%|          | 0/3103 [00:00<?, ?it/s]"
          ]
        },
        {
          "name": "stderr",
          "output_type": "stream",
          "text": [
            "100%|██████████| 3103/3103 [00:20<00:00, 149.57it/s]\n",
            "100%|██████████| 1032/1032 [00:03<00:00, 272.88it/s]\n"
          ]
        },
        {
          "name": "stdout",
          "output_type": "stream",
          "text": [
            "[001/500] Train Acc: 0.55327 Loss: 1.49860 | Val Acc: 0.63518 loss: 1.18277\n",
            "saving model with acc 0.63518\n"
          ]
        },
        {
          "name": "stderr",
          "output_type": "stream",
          "text": [
            "100%|██████████| 3103/3103 [00:16<00:00, 186.75it/s]\n",
            "100%|██████████| 1032/1032 [00:03<00:00, 313.71it/s]\n"
          ]
        },
        {
          "name": "stdout",
          "output_type": "stream",
          "text": [
            "[002/500] Train Acc: 0.61960 Loss: 1.23422 | Val Acc: 0.66189 loss: 1.08156\n",
            "saving model with acc 0.66189\n"
          ]
        },
        {
          "name": "stderr",
          "output_type": "stream",
          "text": [
            "100%|██████████| 3103/3103 [00:16<00:00, 186.28it/s]\n",
            "100%|██████████| 1032/1032 [00:03<00:00, 334.90it/s]\n"
          ]
        },
        {
          "name": "stdout",
          "output_type": "stream",
          "text": [
            "[003/500] Train Acc: 0.64205 Loss: 1.15380 | Val Acc: 0.67803 loss: 1.02731\n",
            "saving model with acc 0.67803\n"
          ]
        },
        {
          "name": "stderr",
          "output_type": "stream",
          "text": [
            "100%|██████████| 3103/3103 [00:16<00:00, 187.73it/s]\n",
            "100%|██████████| 1032/1032 [00:03<00:00, 322.21it/s]\n"
          ]
        },
        {
          "name": "stdout",
          "output_type": "stream",
          "text": [
            "[004/500] Train Acc: 0.65644 Loss: 1.10185 | Val Acc: 0.68882 loss: 0.98990\n",
            "saving model with acc 0.68882\n"
          ]
        },
        {
          "name": "stderr",
          "output_type": "stream",
          "text": [
            "100%|██████████| 3103/3103 [00:17<00:00, 173.89it/s]\n",
            "100%|██████████| 1032/1032 [00:03<00:00, 316.44it/s]\n"
          ]
        },
        {
          "name": "stdout",
          "output_type": "stream",
          "text": [
            "[005/500] Train Acc: 0.66697 Loss: 1.06610 | Val Acc: 0.69438 loss: 0.96842\n",
            "saving model with acc 0.69438\n"
          ]
        },
        {
          "name": "stderr",
          "output_type": "stream",
          "text": [
            "100%|██████████| 3103/3103 [00:17<00:00, 178.69it/s]\n",
            "100%|██████████| 1032/1032 [00:03<00:00, 317.85it/s]\n"
          ]
        },
        {
          "name": "stdout",
          "output_type": "stream",
          "text": [
            "[006/500] Train Acc: 0.67521 Loss: 1.03496 | Val Acc: 0.70077 loss: 0.94677\n",
            "saving model with acc 0.70077\n"
          ]
        },
        {
          "name": "stderr",
          "output_type": "stream",
          "text": [
            "100%|██████████| 3103/3103 [00:16<00:00, 183.68it/s]\n",
            "100%|██████████| 1032/1032 [00:03<00:00, 319.64it/s]\n"
          ]
        },
        {
          "name": "stdout",
          "output_type": "stream",
          "text": [
            "[007/500] Train Acc: 0.68204 Loss: 1.01080 | Val Acc: 0.70557 loss: 0.93022\n",
            "saving model with acc 0.70557\n"
          ]
        },
        {
          "name": "stderr",
          "output_type": "stream",
          "text": [
            "100%|██████████| 3103/3103 [00:17<00:00, 175.67it/s]\n",
            "100%|██████████| 1032/1032 [00:03<00:00, 320.13it/s]\n"
          ]
        },
        {
          "name": "stdout",
          "output_type": "stream",
          "text": [
            "[008/500] Train Acc: 0.68796 Loss: 0.98926 | Val Acc: 0.71016 loss: 0.91575\n",
            "saving model with acc 0.71016\n"
          ]
        },
        {
          "name": "stderr",
          "output_type": "stream",
          "text": [
            "100%|██████████| 3103/3103 [00:17<00:00, 182.19it/s]\n",
            "100%|██████████| 1032/1032 [00:03<00:00, 325.10it/s]\n"
          ]
        },
        {
          "name": "stdout",
          "output_type": "stream",
          "text": [
            "[009/500] Train Acc: 0.69365 Loss: 0.97052 | Val Acc: 0.71309 loss: 0.90297\n",
            "saving model with acc 0.71309\n"
          ]
        },
        {
          "name": "stderr",
          "output_type": "stream",
          "text": [
            "100%|██████████| 3103/3103 [00:16<00:00, 183.96it/s]\n",
            "100%|██████████| 1032/1032 [00:03<00:00, 323.38it/s]\n"
          ]
        },
        {
          "name": "stdout",
          "output_type": "stream",
          "text": [
            "[010/500] Train Acc: 0.69816 Loss: 0.95400 | Val Acc: 0.71620 loss: 0.89416\n",
            "saving model with acc 0.71620\n"
          ]
        },
        {
          "name": "stderr",
          "output_type": "stream",
          "text": [
            "100%|██████████| 3103/3103 [00:17<00:00, 175.19it/s]\n",
            "100%|██████████| 1032/1032 [00:03<00:00, 324.29it/s]\n"
          ]
        },
        {
          "name": "stdout",
          "output_type": "stream",
          "text": [
            "[011/500] Train Acc: 0.70255 Loss: 0.93813 | Val Acc: 0.71783 loss: 0.88831\n",
            "saving model with acc 0.71783\n"
          ]
        },
        {
          "name": "stderr",
          "output_type": "stream",
          "text": [
            "100%|██████████| 3103/3103 [00:17<00:00, 174.55it/s]\n",
            "100%|██████████| 1032/1032 [00:03<00:00, 323.97it/s]\n"
          ]
        },
        {
          "name": "stdout",
          "output_type": "stream",
          "text": [
            "[012/500] Train Acc: 0.70658 Loss: 0.92471 | Val Acc: 0.72095 loss: 0.87699\n",
            "saving model with acc 0.72095\n"
          ]
        },
        {
          "name": "stderr",
          "output_type": "stream",
          "text": [
            "100%|██████████| 3103/3103 [00:17<00:00, 174.72it/s]\n",
            "100%|██████████| 1032/1032 [00:03<00:00, 318.18it/s]\n"
          ]
        },
        {
          "name": "stdout",
          "output_type": "stream",
          "text": [
            "[013/500] Train Acc: 0.71000 Loss: 0.91093 | Val Acc: 0.72205 loss: 0.87452\n",
            "saving model with acc 0.72205\n"
          ]
        },
        {
          "name": "stderr",
          "output_type": "stream",
          "text": [
            "100%|██████████| 3103/3103 [00:17<00:00, 175.47it/s]\n",
            "100%|██████████| 1032/1032 [00:03<00:00, 323.81it/s]\n"
          ]
        },
        {
          "name": "stdout",
          "output_type": "stream",
          "text": [
            "[014/500] Train Acc: 0.71334 Loss: 0.90011 | Val Acc: 0.72479 loss: 0.86576\n",
            "saving model with acc 0.72479\n"
          ]
        },
        {
          "name": "stderr",
          "output_type": "stream",
          "text": [
            "100%|██████████| 3103/3103 [00:16<00:00, 185.40it/s]\n",
            "100%|██████████| 1032/1032 [00:03<00:00, 329.76it/s]\n"
          ]
        },
        {
          "name": "stdout",
          "output_type": "stream",
          "text": [
            "[015/500] Train Acc: 0.71667 Loss: 0.88919 | Val Acc: 0.72601 loss: 0.86104\n",
            "saving model with acc 0.72601\n"
          ]
        },
        {
          "name": "stderr",
          "output_type": "stream",
          "text": [
            "100%|██████████| 3103/3103 [00:16<00:00, 182.86it/s]\n",
            "100%|██████████| 1032/1032 [00:03<00:00, 326.19it/s]\n"
          ]
        },
        {
          "name": "stdout",
          "output_type": "stream",
          "text": [
            "[016/500] Train Acc: 0.71904 Loss: 0.87917 | Val Acc: 0.72711 loss: 0.85749\n",
            "saving model with acc 0.72711\n"
          ]
        },
        {
          "name": "stderr",
          "output_type": "stream",
          "text": [
            "100%|██████████| 3103/3103 [00:17<00:00, 174.97it/s]\n",
            "100%|██████████| 1032/1032 [00:03<00:00, 322.22it/s]\n"
          ]
        },
        {
          "name": "stdout",
          "output_type": "stream",
          "text": [
            "[017/500] Train Acc: 0.72164 Loss: 0.86923 | Val Acc: 0.72906 loss: 0.85160\n",
            "saving model with acc 0.72906\n"
          ]
        },
        {
          "name": "stderr",
          "output_type": "stream",
          "text": [
            "100%|██████████| 3103/3103 [00:17<00:00, 173.75it/s]\n",
            "100%|██████████| 1032/1032 [00:03<00:00, 322.97it/s]\n"
          ]
        },
        {
          "name": "stdout",
          "output_type": "stream",
          "text": [
            "[018/500] Train Acc: 0.72437 Loss: 0.86042 | Val Acc: 0.73016 loss: 0.84752\n",
            "saving model with acc 0.73016\n"
          ]
        },
        {
          "name": "stderr",
          "output_type": "stream",
          "text": [
            "100%|██████████| 3103/3103 [00:17<00:00, 179.93it/s]\n",
            "100%|██████████| 1032/1032 [00:03<00:00, 324.39it/s]\n"
          ]
        },
        {
          "name": "stdout",
          "output_type": "stream",
          "text": [
            "[019/500] Train Acc: 0.72707 Loss: 0.85140 | Val Acc: 0.73123 loss: 0.84415\n",
            "saving model with acc 0.73123\n"
          ]
        },
        {
          "name": "stderr",
          "output_type": "stream",
          "text": [
            "100%|██████████| 3103/3103 [00:16<00:00, 186.80it/s]\n",
            "100%|██████████| 1032/1032 [00:03<00:00, 333.65it/s]\n"
          ]
        },
        {
          "name": "stdout",
          "output_type": "stream",
          "text": [
            "[020/500] Train Acc: 0.72864 Loss: 0.84419 | Val Acc: 0.73096 loss: 0.84289\n"
          ]
        },
        {
          "name": "stderr",
          "output_type": "stream",
          "text": [
            "100%|██████████| 3103/3103 [00:16<00:00, 187.96it/s]\n",
            "100%|██████████| 1032/1032 [00:03<00:00, 334.30it/s]\n"
          ]
        },
        {
          "name": "stdout",
          "output_type": "stream",
          "text": [
            "[021/500] Train Acc: 0.73076 Loss: 0.83638 | Val Acc: 0.73228 loss: 0.84026\n",
            "saving model with acc 0.73228\n"
          ]
        },
        {
          "name": "stderr",
          "output_type": "stream",
          "text": [
            "100%|██████████| 3103/3103 [00:17<00:00, 180.98it/s]\n",
            "100%|██████████| 1032/1032 [00:03<00:00, 319.16it/s]\n"
          ]
        },
        {
          "name": "stdout",
          "output_type": "stream",
          "text": [
            "[022/500] Train Acc: 0.73275 Loss: 0.82846 | Val Acc: 0.73350 loss: 0.83776\n",
            "saving model with acc 0.73350\n"
          ]
        },
        {
          "name": "stderr",
          "output_type": "stream",
          "text": [
            "100%|██████████| 3103/3103 [00:17<00:00, 174.92it/s]\n",
            "100%|██████████| 1032/1032 [00:03<00:00, 326.65it/s]\n"
          ]
        },
        {
          "name": "stdout",
          "output_type": "stream",
          "text": [
            "[023/500] Train Acc: 0.73446 Loss: 0.82159 | Val Acc: 0.73451 loss: 0.83437\n",
            "saving model with acc 0.73451\n"
          ]
        },
        {
          "name": "stderr",
          "output_type": "stream",
          "text": [
            "100%|██████████| 3103/3103 [00:16<00:00, 184.65it/s]\n",
            "100%|██████████| 1032/1032 [00:03<00:00, 333.43it/s]\n"
          ]
        },
        {
          "name": "stdout",
          "output_type": "stream",
          "text": [
            "[024/500] Train Acc: 0.73658 Loss: 0.81643 | Val Acc: 0.73462 loss: 0.83370\n",
            "saving model with acc 0.73462\n"
          ]
        },
        {
          "name": "stderr",
          "output_type": "stream",
          "text": [
            "100%|██████████| 3103/3103 [00:17<00:00, 178.94it/s]\n",
            "100%|██████████| 1032/1032 [00:03<00:00, 312.21it/s]\n"
          ]
        },
        {
          "name": "stdout",
          "output_type": "stream",
          "text": [
            "[025/500] Train Acc: 0.73801 Loss: 0.80950 | Val Acc: 0.73523 loss: 0.83156\n",
            "saving model with acc 0.73523\n"
          ]
        },
        {
          "name": "stderr",
          "output_type": "stream",
          "text": [
            "100%|██████████| 3103/3103 [00:17<00:00, 174.26it/s]\n",
            "100%|██████████| 1032/1032 [00:03<00:00, 330.04it/s]\n"
          ]
        },
        {
          "name": "stdout",
          "output_type": "stream",
          "text": [
            "[026/500] Train Acc: 0.73969 Loss: 0.80411 | Val Acc: 0.73649 loss: 0.82895\n",
            "saving model with acc 0.73649\n"
          ]
        },
        {
          "name": "stderr",
          "output_type": "stream",
          "text": [
            "100%|██████████| 3103/3103 [00:16<00:00, 185.45it/s]\n",
            "100%|██████████| 1032/1032 [00:03<00:00, 330.84it/s]\n"
          ]
        },
        {
          "name": "stdout",
          "output_type": "stream",
          "text": [
            "[027/500] Train Acc: 0.74142 Loss: 0.79791 | Val Acc: 0.73639 loss: 0.82934\n"
          ]
        },
        {
          "name": "stderr",
          "output_type": "stream",
          "text": [
            "100%|██████████| 3103/3103 [00:17<00:00, 177.60it/s]\n",
            "100%|██████████| 1032/1032 [00:03<00:00, 323.03it/s]\n"
          ]
        },
        {
          "name": "stdout",
          "output_type": "stream",
          "text": [
            "[028/500] Train Acc: 0.74271 Loss: 0.79256 | Val Acc: 0.73676 loss: 0.82775\n",
            "saving model with acc 0.73676\n"
          ]
        },
        {
          "name": "stderr",
          "output_type": "stream",
          "text": [
            "100%|██████████| 3103/3103 [00:17<00:00, 175.23it/s]\n",
            "100%|██████████| 1032/1032 [00:03<00:00, 323.28it/s]\n"
          ]
        },
        {
          "name": "stdout",
          "output_type": "stream",
          "text": [
            "[029/500] Train Acc: 0.74410 Loss: 0.78799 | Val Acc: 0.73743 loss: 0.82570\n",
            "saving model with acc 0.73743\n"
          ]
        },
        {
          "name": "stderr",
          "output_type": "stream",
          "text": [
            "100%|██████████| 3103/3103 [00:17<00:00, 174.86it/s]\n",
            "100%|██████████| 1032/1032 [00:03<00:00, 315.86it/s]\n"
          ]
        },
        {
          "name": "stdout",
          "output_type": "stream",
          "text": [
            "[030/500] Train Acc: 0.74518 Loss: 0.78310 | Val Acc: 0.73778 loss: 0.82631\n",
            "saving model with acc 0.73778\n"
          ]
        },
        {
          "name": "stderr",
          "output_type": "stream",
          "text": [
            "100%|██████████| 3103/3103 [00:17<00:00, 172.64it/s]\n",
            "100%|██████████| 1032/1032 [00:03<00:00, 317.35it/s]\n"
          ]
        },
        {
          "name": "stdout",
          "output_type": "stream",
          "text": [
            "[031/500] Train Acc: 0.74712 Loss: 0.77771 | Val Acc: 0.73890 loss: 0.82233\n",
            "saving model with acc 0.73890\n"
          ]
        },
        {
          "name": "stderr",
          "output_type": "stream",
          "text": [
            "100%|██████████| 3103/3103 [00:17<00:00, 178.56it/s]\n",
            "100%|██████████| 1032/1032 [00:03<00:00, 325.87it/s]\n"
          ]
        },
        {
          "name": "stdout",
          "output_type": "stream",
          "text": [
            "[032/500] Train Acc: 0.74824 Loss: 0.77346 | Val Acc: 0.73894 loss: 0.82327\n",
            "saving model with acc 0.73894\n"
          ]
        },
        {
          "name": "stderr",
          "output_type": "stream",
          "text": [
            "100%|██████████| 3103/3103 [00:16<00:00, 185.12it/s]\n",
            "100%|██████████| 1032/1032 [00:03<00:00, 324.17it/s]\n"
          ]
        },
        {
          "name": "stdout",
          "output_type": "stream",
          "text": [
            "[033/500] Train Acc: 0.74956 Loss: 0.76816 | Val Acc: 0.73876 loss: 0.82255\n"
          ]
        },
        {
          "name": "stderr",
          "output_type": "stream",
          "text": [
            "100%|██████████| 3103/3103 [00:17<00:00, 174.95it/s]\n",
            "100%|██████████| 1032/1032 [00:03<00:00, 317.16it/s]\n"
          ]
        },
        {
          "name": "stdout",
          "output_type": "stream",
          "text": [
            "[034/500] Train Acc: 0.74988 Loss: 0.76551 | Val Acc: 0.73897 loss: 0.82144\n",
            "saving model with acc 0.73897\n"
          ]
        },
        {
          "name": "stderr",
          "output_type": "stream",
          "text": [
            "100%|██████████| 3103/3103 [00:17<00:00, 175.42it/s]\n",
            "100%|██████████| 1032/1032 [00:03<00:00, 324.63it/s]\n"
          ]
        },
        {
          "name": "stdout",
          "output_type": "stream",
          "text": [
            "[035/500] Train Acc: 0.75160 Loss: 0.76143 | Val Acc: 0.73938 loss: 0.82119\n",
            "saving model with acc 0.73938\n"
          ]
        },
        {
          "name": "stderr",
          "output_type": "stream",
          "text": [
            "100%|██████████| 3103/3103 [00:17<00:00, 172.82it/s]\n",
            "100%|██████████| 1032/1032 [00:03<00:00, 326.30it/s]\n"
          ]
        },
        {
          "name": "stdout",
          "output_type": "stream",
          "text": [
            "[036/500] Train Acc: 0.75231 Loss: 0.75783 | Val Acc: 0.73990 loss: 0.82063\n",
            "saving model with acc 0.73990\n"
          ]
        },
        {
          "name": "stderr",
          "output_type": "stream",
          "text": [
            "100%|██████████| 3103/3103 [00:16<00:00, 185.35it/s]\n",
            "100%|██████████| 1032/1032 [00:03<00:00, 333.69it/s]\n"
          ]
        },
        {
          "name": "stdout",
          "output_type": "stream",
          "text": [
            "[037/500] Train Acc: 0.75362 Loss: 0.75331 | Val Acc: 0.74031 loss: 0.81969\n",
            "saving model with acc 0.74031\n"
          ]
        },
        {
          "name": "stderr",
          "output_type": "stream",
          "text": [
            "100%|██████████| 3103/3103 [00:16<00:00, 188.43it/s]\n",
            "100%|██████████| 1032/1032 [00:03<00:00, 336.86it/s]\n"
          ]
        },
        {
          "name": "stdout",
          "output_type": "stream",
          "text": [
            "[038/500] Train Acc: 0.75446 Loss: 0.75106 | Val Acc: 0.73980 loss: 0.82051\n"
          ]
        },
        {
          "name": "stderr",
          "output_type": "stream",
          "text": [
            "100%|██████████| 3103/3103 [00:16<00:00, 187.90it/s]\n",
            "100%|██████████| 1032/1032 [00:03<00:00, 330.83it/s]\n"
          ]
        },
        {
          "name": "stdout",
          "output_type": "stream",
          "text": [
            "[039/500] Train Acc: 0.75523 Loss: 0.74649 | Val Acc: 0.73989 loss: 0.82128\n"
          ]
        },
        {
          "name": "stderr",
          "output_type": "stream",
          "text": [
            "100%|██████████| 3103/3103 [00:17<00:00, 173.42it/s]\n",
            "100%|██████████| 1032/1032 [00:03<00:00, 319.82it/s]\n"
          ]
        },
        {
          "name": "stdout",
          "output_type": "stream",
          "text": [
            "[040/500] Train Acc: 0.75663 Loss: 0.74208 | Val Acc: 0.73991 loss: 0.82020\n"
          ]
        },
        {
          "name": "stderr",
          "output_type": "stream",
          "text": [
            "100%|██████████| 3103/3103 [00:17<00:00, 178.96it/s]\n",
            "100%|██████████| 1032/1032 [00:03<00:00, 320.65it/s]\n"
          ]
        },
        {
          "name": "stdout",
          "output_type": "stream",
          "text": [
            "[041/500] Train Acc: 0.75734 Loss: 0.74005 | Val Acc: 0.74017 loss: 0.81845\n"
          ]
        },
        {
          "name": "stderr",
          "output_type": "stream",
          "text": [
            "100%|██████████| 3103/3103 [00:16<00:00, 184.61it/s]\n",
            "100%|██████████| 1032/1032 [00:03<00:00, 315.15it/s]\n"
          ]
        },
        {
          "name": "stdout",
          "output_type": "stream",
          "text": [
            "[042/500] Train Acc: 0.75798 Loss: 0.73698 | Val Acc: 0.74027 loss: 0.82098\n"
          ]
        },
        {
          "name": "stderr",
          "output_type": "stream",
          "text": [
            "100%|██████████| 3103/3103 [00:17<00:00, 173.38it/s]\n",
            "100%|██████████| 1032/1032 [00:03<00:00, 321.96it/s]\n"
          ]
        },
        {
          "name": "stdout",
          "output_type": "stream",
          "text": [
            "[043/500] Train Acc: 0.75902 Loss: 0.73351 | Val Acc: 0.74076 loss: 0.81801\n",
            "saving model with acc 0.74076\n"
          ]
        },
        {
          "name": "stderr",
          "output_type": "stream",
          "text": [
            "100%|██████████| 3103/3103 [00:17<00:00, 181.94it/s]\n",
            "100%|██████████| 1032/1032 [00:03<00:00, 327.66it/s]\n"
          ]
        },
        {
          "name": "stdout",
          "output_type": "stream",
          "text": [
            "[044/500] Train Acc: 0.75962 Loss: 0.73171 | Val Acc: 0.74114 loss: 0.81917\n",
            "saving model with acc 0.74114\n"
          ]
        },
        {
          "name": "stderr",
          "output_type": "stream",
          "text": [
            "100%|██████████| 3103/3103 [00:16<00:00, 185.73it/s]\n",
            "100%|██████████| 1032/1032 [00:03<00:00, 324.30it/s]\n"
          ]
        },
        {
          "name": "stdout",
          "output_type": "stream",
          "text": [
            "[045/500] Train Acc: 0.76027 Loss: 0.72880 | Val Acc: 0.74132 loss: 0.81852\n",
            "saving model with acc 0.74132\n"
          ]
        },
        {
          "name": "stderr",
          "output_type": "stream",
          "text": [
            "100%|██████████| 3103/3103 [00:17<00:00, 174.13it/s]\n",
            "100%|██████████| 1032/1032 [00:03<00:00, 324.19it/s]\n"
          ]
        },
        {
          "name": "stdout",
          "output_type": "stream",
          "text": [
            "[046/500] Train Acc: 0.76126 Loss: 0.72521 | Val Acc: 0.74093 loss: 0.81883\n"
          ]
        },
        {
          "name": "stderr",
          "output_type": "stream",
          "text": [
            "100%|██████████| 3103/3103 [00:17<00:00, 176.07it/s]\n",
            "100%|██████████| 1032/1032 [00:03<00:00, 319.21it/s]\n"
          ]
        },
        {
          "name": "stdout",
          "output_type": "stream",
          "text": [
            "[047/500] Train Acc: 0.76204 Loss: 0.72287 | Val Acc: 0.74175 loss: 0.81623\n",
            "saving model with acc 0.74175\n"
          ]
        },
        {
          "name": "stderr",
          "output_type": "stream",
          "text": [
            "100%|██████████| 3103/3103 [00:17<00:00, 174.05it/s]\n",
            "100%|██████████| 1032/1032 [00:03<00:00, 319.86it/s]\n"
          ]
        },
        {
          "name": "stdout",
          "output_type": "stream",
          "text": [
            "[048/500] Train Acc: 0.76238 Loss: 0.72004 | Val Acc: 0.74104 loss: 0.81824\n"
          ]
        },
        {
          "name": "stderr",
          "output_type": "stream",
          "text": [
            "100%|██████████| 3103/3103 [00:17<00:00, 174.40it/s]\n",
            "100%|██████████| 1032/1032 [00:03<00:00, 323.79it/s]\n"
          ]
        },
        {
          "name": "stdout",
          "output_type": "stream",
          "text": [
            "[049/500] Train Acc: 0.76350 Loss: 0.71715 | Val Acc: 0.74100 loss: 0.82053\n"
          ]
        },
        {
          "name": "stderr",
          "output_type": "stream",
          "text": [
            "100%|██████████| 3103/3103 [00:16<00:00, 185.04it/s]\n",
            "100%|██████████| 1032/1032 [00:03<00:00, 324.50it/s]\n"
          ]
        },
        {
          "name": "stdout",
          "output_type": "stream",
          "text": [
            "[050/500] Train Acc: 0.76352 Loss: 0.71554 | Val Acc: 0.74183 loss: 0.81740\n",
            "saving model with acc 0.74183\n"
          ]
        },
        {
          "name": "stderr",
          "output_type": "stream",
          "text": [
            "100%|██████████| 3103/3103 [00:16<00:00, 183.26it/s]\n",
            "100%|██████████| 1032/1032 [00:03<00:00, 313.29it/s]\n"
          ]
        },
        {
          "name": "stdout",
          "output_type": "stream",
          "text": [
            "[051/500] Train Acc: 0.76499 Loss: 0.71207 | Val Acc: 0.74141 loss: 0.81806\n"
          ]
        },
        {
          "name": "stderr",
          "output_type": "stream",
          "text": [
            "100%|██████████| 3103/3103 [00:17<00:00, 174.77it/s]\n",
            "100%|██████████| 1032/1032 [00:03<00:00, 316.76it/s]\n"
          ]
        },
        {
          "name": "stdout",
          "output_type": "stream",
          "text": [
            "[052/500] Train Acc: 0.76494 Loss: 0.71112 | Val Acc: 0.74180 loss: 0.81744\n"
          ]
        },
        {
          "name": "stderr",
          "output_type": "stream",
          "text": [
            "100%|██████████| 3103/3103 [00:17<00:00, 175.97it/s]\n",
            "100%|██████████| 1032/1032 [00:03<00:00, 328.22it/s]\n"
          ]
        },
        {
          "name": "stdout",
          "output_type": "stream",
          "text": [
            "[053/500] Train Acc: 0.76589 Loss: 0.70835 | Val Acc: 0.74208 loss: 0.81779\n",
            "saving model with acc 0.74208\n"
          ]
        },
        {
          "name": "stderr",
          "output_type": "stream",
          "text": [
            "100%|██████████| 3103/3103 [00:17<00:00, 178.73it/s]\n",
            "100%|██████████| 1032/1032 [00:03<00:00, 330.51it/s]\n"
          ]
        },
        {
          "name": "stdout",
          "output_type": "stream",
          "text": [
            "[054/500] Train Acc: 0.76675 Loss: 0.70576 | Val Acc: 0.74206 loss: 0.81693\n"
          ]
        },
        {
          "name": "stderr",
          "output_type": "stream",
          "text": [
            "100%|██████████| 3103/3103 [00:16<00:00, 186.12it/s]\n",
            "100%|██████████| 1032/1032 [00:03<00:00, 321.01it/s]\n"
          ]
        },
        {
          "name": "stdout",
          "output_type": "stream",
          "text": [
            "[055/500] Train Acc: 0.76709 Loss: 0.70481 | Val Acc: 0.74169 loss: 0.81725\n"
          ]
        },
        {
          "name": "stderr",
          "output_type": "stream",
          "text": [
            "100%|██████████| 3103/3103 [00:16<00:00, 189.04it/s]\n",
            "100%|██████████| 1032/1032 [00:03<00:00, 335.60it/s]\n"
          ]
        },
        {
          "name": "stdout",
          "output_type": "stream",
          "text": [
            "[056/500] Train Acc: 0.76750 Loss: 0.70267 | Val Acc: 0.74220 loss: 0.81760\n",
            "saving model with acc 0.74220\n"
          ]
        },
        {
          "name": "stderr",
          "output_type": "stream",
          "text": [
            "100%|██████████| 3103/3103 [00:16<00:00, 182.62it/s]\n",
            "100%|██████████| 1032/1032 [00:03<00:00, 314.02it/s]\n"
          ]
        },
        {
          "name": "stdout",
          "output_type": "stream",
          "text": [
            "[057/500] Train Acc: 0.76796 Loss: 0.70011 | Val Acc: 0.74188 loss: 0.81796\n"
          ]
        },
        {
          "name": "stderr",
          "output_type": "stream",
          "text": [
            "100%|██████████| 3103/3103 [00:17<00:00, 174.17it/s]\n",
            "100%|██████████| 1032/1032 [00:03<00:00, 320.87it/s]\n"
          ]
        },
        {
          "name": "stdout",
          "output_type": "stream",
          "text": [
            "[058/500] Train Acc: 0.76857 Loss: 0.69900 | Val Acc: 0.74243 loss: 0.81793\n",
            "saving model with acc 0.74243\n"
          ]
        },
        {
          "name": "stderr",
          "output_type": "stream",
          "text": [
            "100%|██████████| 3103/3103 [00:16<00:00, 183.87it/s]\n",
            "100%|██████████| 1032/1032 [00:03<00:00, 322.98it/s]\n"
          ]
        },
        {
          "name": "stdout",
          "output_type": "stream",
          "text": [
            "[059/500] Train Acc: 0.76912 Loss: 0.69627 | Val Acc: 0.74236 loss: 0.81771\n"
          ]
        },
        {
          "name": "stderr",
          "output_type": "stream",
          "text": [
            "100%|██████████| 3103/3103 [00:17<00:00, 180.16it/s]\n",
            "100%|██████████| 1032/1032 [00:03<00:00, 312.41it/s]\n"
          ]
        },
        {
          "name": "stdout",
          "output_type": "stream",
          "text": [
            "[060/500] Train Acc: 0.77000 Loss: 0.69504 | Val Acc: 0.74270 loss: 0.81777\n",
            "saving model with acc 0.74270\n"
          ]
        },
        {
          "name": "stderr",
          "output_type": "stream",
          "text": [
            "100%|██████████| 3103/3103 [00:17<00:00, 175.87it/s]\n",
            "100%|██████████| 1032/1032 [00:03<00:00, 322.29it/s]\n"
          ]
        },
        {
          "name": "stdout",
          "output_type": "stream",
          "text": [
            "[061/500] Train Acc: 0.77008 Loss: 0.69277 | Val Acc: 0.74232 loss: 0.81951\n"
          ]
        },
        {
          "name": "stderr",
          "output_type": "stream",
          "text": [
            "100%|██████████| 3103/3103 [00:16<00:00, 185.60it/s]\n",
            "100%|██████████| 1032/1032 [00:03<00:00, 324.08it/s]\n"
          ]
        },
        {
          "name": "stdout",
          "output_type": "stream",
          "text": [
            "[062/500] Train Acc: 0.77045 Loss: 0.69244 | Val Acc: 0.74245 loss: 0.81752\n"
          ]
        },
        {
          "name": "stderr",
          "output_type": "stream",
          "text": [
            "100%|██████████| 3103/3103 [00:17<00:00, 180.77it/s]\n",
            "100%|██████████| 1032/1032 [00:03<00:00, 320.70it/s]\n"
          ]
        },
        {
          "name": "stdout",
          "output_type": "stream",
          "text": [
            "[063/500] Train Acc: 0.77112 Loss: 0.68919 | Val Acc: 0.74246 loss: 0.81810\n"
          ]
        },
        {
          "name": "stderr",
          "output_type": "stream",
          "text": [
            "100%|██████████| 3103/3103 [00:17<00:00, 174.42it/s]\n",
            "100%|██████████| 1032/1032 [00:03<00:00, 318.84it/s]\n"
          ]
        },
        {
          "name": "stdout",
          "output_type": "stream",
          "text": [
            "[064/500] Train Acc: 0.77170 Loss: 0.68742 | Val Acc: 0.74232 loss: 0.81874\n"
          ]
        },
        {
          "name": "stderr",
          "output_type": "stream",
          "text": [
            "100%|██████████| 3103/3103 [00:17<00:00, 174.92it/s]\n",
            "100%|██████████| 1032/1032 [00:03<00:00, 323.35it/s]\n"
          ]
        },
        {
          "name": "stdout",
          "output_type": "stream",
          "text": [
            "[065/500] Train Acc: 0.77165 Loss: 0.68637 | Val Acc: 0.74225 loss: 0.81827\n"
          ]
        },
        {
          "name": "stderr",
          "output_type": "stream",
          "text": [
            "100%|██████████| 3103/3103 [00:17<00:00, 175.58it/s]\n",
            "100%|██████████| 1032/1032 [00:03<00:00, 315.65it/s]\n"
          ]
        },
        {
          "name": "stdout",
          "output_type": "stream",
          "text": [
            "[066/500] Train Acc: 0.77276 Loss: 0.68524 | Val Acc: 0.74254 loss: 0.82119\n"
          ]
        },
        {
          "name": "stderr",
          "output_type": "stream",
          "text": [
            "100%|██████████| 3103/3103 [00:17<00:00, 175.27it/s]\n",
            "100%|██████████| 1032/1032 [00:03<00:00, 326.82it/s]\n"
          ]
        },
        {
          "name": "stdout",
          "output_type": "stream",
          "text": [
            "[067/500] Train Acc: 0.77260 Loss: 0.68288 | Val Acc: 0.74303 loss: 0.81873\n",
            "saving model with acc 0.74303\n"
          ]
        },
        {
          "name": "stderr",
          "output_type": "stream",
          "text": [
            "100%|██████████| 3103/3103 [00:16<00:00, 186.23it/s]\n",
            "100%|██████████| 1032/1032 [00:03<00:00, 333.54it/s]\n"
          ]
        },
        {
          "name": "stdout",
          "output_type": "stream",
          "text": [
            "[068/500] Train Acc: 0.77337 Loss: 0.68254 | Val Acc: 0.74311 loss: 0.81745\n",
            "saving model with acc 0.74311\n"
          ]
        },
        {
          "name": "stderr",
          "output_type": "stream",
          "text": [
            "100%|██████████| 3103/3103 [00:17<00:00, 178.05it/s]\n",
            "100%|██████████| 1032/1032 [00:03<00:00, 324.26it/s]\n"
          ]
        },
        {
          "name": "stdout",
          "output_type": "stream",
          "text": [
            "[069/500] Train Acc: 0.77368 Loss: 0.68073 | Val Acc: 0.74304 loss: 0.81659\n"
          ]
        },
        {
          "name": "stderr",
          "output_type": "stream",
          "text": [
            "100%|██████████| 3103/3103 [00:17<00:00, 174.16it/s]\n",
            "100%|██████████| 1032/1032 [00:03<00:00, 321.10it/s]\n"
          ]
        },
        {
          "name": "stdout",
          "output_type": "stream",
          "text": [
            "[070/500] Train Acc: 0.77420 Loss: 0.67891 | Val Acc: 0.74336 loss: 0.81815\n",
            "saving model with acc 0.74336\n"
          ]
        },
        {
          "name": "stderr",
          "output_type": "stream",
          "text": [
            "100%|██████████| 3103/3103 [00:17<00:00, 174.86it/s]\n",
            "100%|██████████| 1032/1032 [00:03<00:00, 315.47it/s]\n"
          ]
        },
        {
          "name": "stdout",
          "output_type": "stream",
          "text": [
            "[071/500] Train Acc: 0.77477 Loss: 0.67742 | Val Acc: 0.74266 loss: 0.81812\n"
          ]
        },
        {
          "name": "stderr",
          "output_type": "stream",
          "text": [
            "100%|██████████| 3103/3103 [00:16<00:00, 186.19it/s]\n",
            "100%|██████████| 1032/1032 [00:03<00:00, 334.49it/s]\n"
          ]
        },
        {
          "name": "stdout",
          "output_type": "stream",
          "text": [
            "[072/500] Train Acc: 0.77511 Loss: 0.67620 | Val Acc: 0.74359 loss: 0.81635\n",
            "saving model with acc 0.74359\n"
          ]
        },
        {
          "name": "stderr",
          "output_type": "stream",
          "text": [
            "100%|██████████| 3103/3103 [00:16<00:00, 186.05it/s]\n",
            "100%|██████████| 1032/1032 [00:03<00:00, 336.71it/s]\n"
          ]
        },
        {
          "name": "stdout",
          "output_type": "stream",
          "text": [
            "[073/500] Train Acc: 0.77525 Loss: 0.67485 | Val Acc: 0.74342 loss: 0.81793\n"
          ]
        },
        {
          "name": "stderr",
          "output_type": "stream",
          "text": [
            "100%|██████████| 3103/3103 [00:16<00:00, 187.87it/s]\n",
            "100%|██████████| 1032/1032 [00:03<00:00, 338.05it/s]\n"
          ]
        },
        {
          "name": "stdout",
          "output_type": "stream",
          "text": [
            "[074/500] Train Acc: 0.77591 Loss: 0.67239 | Val Acc: 0.74349 loss: 0.81802\n"
          ]
        },
        {
          "name": "stderr",
          "output_type": "stream",
          "text": [
            "100%|██████████| 3103/3103 [00:17<00:00, 176.48it/s]\n",
            "100%|██████████| 1032/1032 [00:03<00:00, 324.68it/s]\n"
          ]
        },
        {
          "name": "stdout",
          "output_type": "stream",
          "text": [
            "[075/500] Train Acc: 0.77669 Loss: 0.67091 | Val Acc: 0.74338 loss: 0.81943\n"
          ]
        },
        {
          "name": "stderr",
          "output_type": "stream",
          "text": [
            "100%|██████████| 3103/3103 [00:17<00:00, 176.50it/s]\n",
            "100%|██████████| 1032/1032 [00:03<00:00, 330.52it/s]\n"
          ]
        },
        {
          "name": "stdout",
          "output_type": "stream",
          "text": [
            "[076/500] Train Acc: 0.77638 Loss: 0.67088 | Val Acc: 0.74280 loss: 0.81971\n"
          ]
        },
        {
          "name": "stderr",
          "output_type": "stream",
          "text": [
            "100%|██████████| 3103/3103 [00:16<00:00, 184.33it/s]\n",
            "100%|██████████| 1032/1032 [00:03<00:00, 333.80it/s]\n"
          ]
        },
        {
          "name": "stdout",
          "output_type": "stream",
          "text": [
            "[077/500] Train Acc: 0.77700 Loss: 0.66896 | Val Acc: 0.74378 loss: 0.81711\n",
            "saving model with acc 0.74378\n"
          ]
        },
        {
          "name": "stderr",
          "output_type": "stream",
          "text": [
            "100%|██████████| 3103/3103 [00:17<00:00, 175.64it/s]\n",
            "100%|██████████| 1032/1032 [00:03<00:00, 324.58it/s]\n"
          ]
        },
        {
          "name": "stdout",
          "output_type": "stream",
          "text": [
            "[078/500] Train Acc: 0.77710 Loss: 0.66797 | Val Acc: 0.74329 loss: 0.82107\n"
          ]
        },
        {
          "name": "stderr",
          "output_type": "stream",
          "text": [
            "100%|██████████| 3103/3103 [00:17<00:00, 178.45it/s]\n",
            "100%|██████████| 1032/1032 [00:03<00:00, 322.99it/s]\n"
          ]
        },
        {
          "name": "stdout",
          "output_type": "stream",
          "text": [
            "[079/500] Train Acc: 0.77764 Loss: 0.66652 | Val Acc: 0.74380 loss: 0.81820\n",
            "saving model with acc 0.74380\n"
          ]
        },
        {
          "name": "stderr",
          "output_type": "stream",
          "text": [
            "100%|██████████| 3103/3103 [00:16<00:00, 185.80it/s]\n",
            "100%|██████████| 1032/1032 [00:03<00:00, 327.66it/s]\n"
          ]
        },
        {
          "name": "stdout",
          "output_type": "stream",
          "text": [
            "[080/500] Train Acc: 0.77814 Loss: 0.66587 | Val Acc: 0.74302 loss: 0.82118\n"
          ]
        },
        {
          "name": "stderr",
          "output_type": "stream",
          "text": [
            " 20%|██        | 627/3103 [00:03<00:14, 171.31it/s]\n"
          ]
        },
        {
          "ename": "KeyboardInterrupt",
          "evalue": "",
          "output_type": "error",
          "traceback": [
            "\u001b[0;31m---------------------------------------------------------------------------\u001b[0m",
            "\u001b[0;31mKeyboardInterrupt\u001b[0m                         Traceback (most recent call last)",
            "Cell \u001b[0;32mIn[111], line 15\u001b[0m\n\u001b[1;32m     13\u001b[0m \u001b[38;5;66;03m# training\u001b[39;00m\n\u001b[1;32m     14\u001b[0m model\u001b[38;5;241m.\u001b[39mtrain() \u001b[38;5;66;03m# set the model to training mode\u001b[39;00m\n\u001b[0;32m---> 15\u001b[0m \u001b[43m\u001b[49m\u001b[38;5;28;43;01mfor\u001b[39;49;00m\u001b[43m \u001b[49m\u001b[43mi\u001b[49m\u001b[43m,\u001b[49m\u001b[43m \u001b[49m\u001b[43mbatch\u001b[49m\u001b[43m \u001b[49m\u001b[38;5;129;43;01min\u001b[39;49;00m\u001b[43m \u001b[49m\u001b[38;5;28;43menumerate\u001b[39;49m\u001b[43m(\u001b[49m\u001b[43mtqdm\u001b[49m\u001b[43m(\u001b[49m\u001b[43mtrain_loader\u001b[49m\u001b[43m)\u001b[49m\u001b[43m)\u001b[49m\u001b[43m:\u001b[49m\n\u001b[1;32m     16\u001b[0m \u001b[43m    \u001b[49m\u001b[43mfeatures\u001b[49m\u001b[43m,\u001b[49m\u001b[43m \u001b[49m\u001b[43mlabels\u001b[49m\u001b[43m \u001b[49m\u001b[38;5;241;43m=\u001b[39;49m\u001b[43m \u001b[49m\u001b[43mbatch\u001b[49m\n\u001b[1;32m     17\u001b[0m \u001b[43m    \u001b[49m\u001b[43mfeatures\u001b[49m\u001b[43m \u001b[49m\u001b[38;5;241;43m=\u001b[39;49m\u001b[43m \u001b[49m\u001b[43mfeatures\u001b[49m\u001b[38;5;241;43m.\u001b[39;49m\u001b[43mto\u001b[49m\u001b[43m(\u001b[49m\u001b[43mdevice\u001b[49m\u001b[43m)\u001b[49m\n",
            "File \u001b[0;32m~/miniconda3/envs/lhy/lib/python3.12/site-packages/tqdm/std.py:1181\u001b[0m, in \u001b[0;36mtqdm.__iter__\u001b[0;34m(self)\u001b[0m\n\u001b[1;32m   1178\u001b[0m time \u001b[38;5;241m=\u001b[39m \u001b[38;5;28mself\u001b[39m\u001b[38;5;241m.\u001b[39m_time\n\u001b[1;32m   1180\u001b[0m \u001b[38;5;28;01mtry\u001b[39;00m:\n\u001b[0;32m-> 1181\u001b[0m \u001b[43m    \u001b[49m\u001b[38;5;28;43;01mfor\u001b[39;49;00m\u001b[43m \u001b[49m\u001b[43mobj\u001b[49m\u001b[43m \u001b[49m\u001b[38;5;129;43;01min\u001b[39;49;00m\u001b[43m \u001b[49m\u001b[43miterable\u001b[49m\u001b[43m:\u001b[49m\n\u001b[1;32m   1182\u001b[0m \u001b[43m        \u001b[49m\u001b[38;5;28;43;01myield\u001b[39;49;00m\u001b[43m \u001b[49m\u001b[43mobj\u001b[49m\n\u001b[1;32m   1183\u001b[0m \u001b[43m        \u001b[49m\u001b[38;5;66;43;03m# Update and possibly print the progressbar.\u001b[39;49;00m\n\u001b[1;32m   1184\u001b[0m \u001b[43m        \u001b[49m\u001b[38;5;66;43;03m# Note: does not call self.update(1) for speed optimisation.\u001b[39;49;00m\n",
            "File \u001b[0;32m~/miniconda3/envs/lhy/lib/python3.12/site-packages/torch/utils/data/dataloader.py:708\u001b[0m, in \u001b[0;36m_BaseDataLoaderIter.__next__\u001b[0;34m(self)\u001b[0m\n\u001b[1;32m    705\u001b[0m \u001b[38;5;28;01mif\u001b[39;00m \u001b[38;5;28mself\u001b[39m\u001b[38;5;241m.\u001b[39m_sampler_iter \u001b[38;5;129;01mis\u001b[39;00m \u001b[38;5;28;01mNone\u001b[39;00m:\n\u001b[1;32m    706\u001b[0m     \u001b[38;5;66;03m# TODO(https://github.com/pytorch/pytorch/issues/76750)\u001b[39;00m\n\u001b[1;32m    707\u001b[0m     \u001b[38;5;28mself\u001b[39m\u001b[38;5;241m.\u001b[39m_reset()  \u001b[38;5;66;03m# type: ignore[call-arg]\u001b[39;00m\n\u001b[0;32m--> 708\u001b[0m data \u001b[38;5;241m=\u001b[39m \u001b[38;5;28;43mself\u001b[39;49m\u001b[38;5;241;43m.\u001b[39;49m\u001b[43m_next_data\u001b[49m\u001b[43m(\u001b[49m\u001b[43m)\u001b[49m\n\u001b[1;32m    709\u001b[0m \u001b[38;5;28mself\u001b[39m\u001b[38;5;241m.\u001b[39m_num_yielded \u001b[38;5;241m+\u001b[39m\u001b[38;5;241m=\u001b[39m \u001b[38;5;241m1\u001b[39m\n\u001b[1;32m    710\u001b[0m \u001b[38;5;28;01mif\u001b[39;00m (\n\u001b[1;32m    711\u001b[0m     \u001b[38;5;28mself\u001b[39m\u001b[38;5;241m.\u001b[39m_dataset_kind \u001b[38;5;241m==\u001b[39m _DatasetKind\u001b[38;5;241m.\u001b[39mIterable\n\u001b[1;32m    712\u001b[0m     \u001b[38;5;129;01mand\u001b[39;00m \u001b[38;5;28mself\u001b[39m\u001b[38;5;241m.\u001b[39m_IterableDataset_len_called \u001b[38;5;129;01mis\u001b[39;00m \u001b[38;5;129;01mnot\u001b[39;00m \u001b[38;5;28;01mNone\u001b[39;00m\n\u001b[1;32m    713\u001b[0m     \u001b[38;5;129;01mand\u001b[39;00m \u001b[38;5;28mself\u001b[39m\u001b[38;5;241m.\u001b[39m_num_yielded \u001b[38;5;241m>\u001b[39m \u001b[38;5;28mself\u001b[39m\u001b[38;5;241m.\u001b[39m_IterableDataset_len_called\n\u001b[1;32m    714\u001b[0m ):\n",
            "File \u001b[0;32m~/miniconda3/envs/lhy/lib/python3.12/site-packages/torch/utils/data/dataloader.py:764\u001b[0m, in \u001b[0;36m_SingleProcessDataLoaderIter._next_data\u001b[0;34m(self)\u001b[0m\n\u001b[1;32m    762\u001b[0m \u001b[38;5;28;01mdef\u001b[39;00m\u001b[38;5;250m \u001b[39m\u001b[38;5;21m_next_data\u001b[39m(\u001b[38;5;28mself\u001b[39m):\n\u001b[1;32m    763\u001b[0m     index \u001b[38;5;241m=\u001b[39m \u001b[38;5;28mself\u001b[39m\u001b[38;5;241m.\u001b[39m_next_index()  \u001b[38;5;66;03m# may raise StopIteration\u001b[39;00m\n\u001b[0;32m--> 764\u001b[0m     data \u001b[38;5;241m=\u001b[39m \u001b[38;5;28;43mself\u001b[39;49m\u001b[38;5;241;43m.\u001b[39;49m\u001b[43m_dataset_fetcher\u001b[49m\u001b[38;5;241;43m.\u001b[39;49m\u001b[43mfetch\u001b[49m\u001b[43m(\u001b[49m\u001b[43mindex\u001b[49m\u001b[43m)\u001b[49m  \u001b[38;5;66;03m# may raise StopIteration\u001b[39;00m\n\u001b[1;32m    765\u001b[0m     \u001b[38;5;28;01mif\u001b[39;00m \u001b[38;5;28mself\u001b[39m\u001b[38;5;241m.\u001b[39m_pin_memory:\n\u001b[1;32m    766\u001b[0m         data \u001b[38;5;241m=\u001b[39m _utils\u001b[38;5;241m.\u001b[39mpin_memory\u001b[38;5;241m.\u001b[39mpin_memory(data, \u001b[38;5;28mself\u001b[39m\u001b[38;5;241m.\u001b[39m_pin_memory_device)\n",
            "File \u001b[0;32m~/miniconda3/envs/lhy/lib/python3.12/site-packages/torch/utils/data/_utils/fetch.py:52\u001b[0m, in \u001b[0;36m_MapDatasetFetcher.fetch\u001b[0;34m(self, possibly_batched_index)\u001b[0m\n\u001b[1;32m     50\u001b[0m         data \u001b[38;5;241m=\u001b[39m \u001b[38;5;28mself\u001b[39m\u001b[38;5;241m.\u001b[39mdataset\u001b[38;5;241m.\u001b[39m__getitems__(possibly_batched_index)\n\u001b[1;32m     51\u001b[0m     \u001b[38;5;28;01melse\u001b[39;00m:\n\u001b[0;32m---> 52\u001b[0m         data \u001b[38;5;241m=\u001b[39m [\u001b[38;5;28mself\u001b[39m\u001b[38;5;241m.\u001b[39mdataset[idx] \u001b[38;5;28;01mfor\u001b[39;00m idx \u001b[38;5;129;01min\u001b[39;00m possibly_batched_index]\n\u001b[1;32m     53\u001b[0m \u001b[38;5;28;01melse\u001b[39;00m:\n\u001b[1;32m     54\u001b[0m     data \u001b[38;5;241m=\u001b[39m \u001b[38;5;28mself\u001b[39m\u001b[38;5;241m.\u001b[39mdataset[possibly_batched_index]\n",
            "\u001b[0;31mKeyboardInterrupt\u001b[0m: "
          ]
        }
      ],
      "source": [
        "# create model, define a loss function, and optimizer\n",
        "model = Classifier(input_dim=input_dim, hidden_layers=hidden_layers, hidden_dim=hidden_dim).to(device)\n",
        "criterion = nn.CrossEntropyLoss() \n",
        "optimizer = torch.optim.Adam(model.parameters(), lr=learning_rate)\n",
        "\n",
        "best_acc = 0.0\n",
        "for epoch in range(num_epoch):\n",
        "    train_acc = 0.0\n",
        "    train_loss = 0.0\n",
        "    val_acc = 0.0\n",
        "    val_loss = 0.0\n",
        "    \n",
        "    # training\n",
        "    model.train() # set the model to training mode\n",
        "    for i, batch in enumerate(tqdm(train_loader)):\n",
        "        features, labels = batch\n",
        "        features = features.to(device)\n",
        "        labels = labels.to(device)\n",
        "        \n",
        "        optimizer.zero_grad() \n",
        "        outputs = model(features) \n",
        "        \n",
        "        loss = criterion(outputs, labels)\n",
        "        loss.backward() \n",
        "        optimizer.step() \n",
        "        \n",
        "        _, train_pred = torch.max(outputs, 1) # get the index of the class with the highest probability\n",
        "        train_acc += (train_pred.detach() == labels.detach()).sum().item()\n",
        "        train_loss += loss.item()\n",
        "    \n",
        "    # validation\n",
        "    model.eval() # set the model to evaluation mode\n",
        "    with torch.no_grad():\n",
        "        for i, batch in enumerate(tqdm(val_loader)):\n",
        "            features, labels = batch\n",
        "            features = features.to(device)\n",
        "            labels = labels.to(device)\n",
        "            outputs = model(features)\n",
        "            \n",
        "            loss = criterion(outputs, labels) \n",
        "            \n",
        "            _, val_pred = torch.max(outputs, 1) \n",
        "            val_acc += (val_pred.cpu() == labels.cpu()).sum().item() # get the index of the class with the highest probability\n",
        "            val_loss += loss.item()\n",
        "\n",
        "    print(f'[{epoch+1:03d}/{num_epoch:03d}] Train Acc: {train_acc/len(train_set):3.5f} Loss: {train_loss/len(train_loader):3.5f} | Val Acc: {val_acc/len(val_set):3.5f} loss: {val_loss/len(val_loader):3.5f}')\n",
        "\n",
        "    # if the model improves, save a checkpoint at this epoch\n",
        "    if val_acc > best_acc:\n",
        "        best_acc = val_acc\n",
        "        torch.save(model.state_dict(), model_path)\n",
        "        print(f'saving model with acc {best_acc/len(val_set):.5f}')\n"
      ]
    },
    {
      "cell_type": "code",
      "execution_count": null,
      "metadata": {
        "id": "ab33MxosWLmG"
      },
      "outputs": [
        {
          "data": {
            "text/plain": [
              "0"
            ]
          },
          "execution_count": 61,
          "metadata": {},
          "output_type": "execute_result"
        }
      ],
      "source": [
        "del train_set, val_set\n",
        "del train_loader, val_loader\n",
        "gc.collect()"
      ]
    },
    {
      "cell_type": "markdown",
      "metadata": {
        "id": "1Hi7jTn3PX-m"
      },
      "source": [
        "# Testing\n",
        "Create a testing dataset, and load model from the saved checkpoint."
      ]
    },
    {
      "cell_type": "code",
      "execution_count": null,
      "metadata": {
        "id": "VOG1Ou0PGrhc"
      },
      "outputs": [
        {
          "name": "stdout",
          "output_type": "stream",
          "text": [
            "[Dataset] - # phone classes: 41, number of utterances for test: 857\n"
          ]
        },
        {
          "name": "stderr",
          "output_type": "stream",
          "text": [
            "857it [00:02, 379.10it/s]\n"
          ]
        },
        {
          "name": "stdout",
          "output_type": "stream",
          "text": [
            "[INFO] test set\n",
            "torch.Size([527364, 897])\n"
          ]
        }
      ],
      "source": [
        "# load data\n",
        "test_X = preprocess_data(split='test', feat_dir='./libriphone/feat', phone_path='./libriphone', concat_nframes=concat_nframes)\n",
        "test_set = LibriDataset(test_X, None)\n",
        "test_loader = DataLoader(test_set, batch_size=batch_size, shuffle=False)"
      ]
    },
    {
      "cell_type": "code",
      "execution_count": null,
      "metadata": {
        "id": "ay0Fu8Ovkdad"
      },
      "outputs": [
        {
          "data": {
            "text/plain": [
              "<All keys matched successfully>"
            ]
          },
          "execution_count": 63,
          "metadata": {},
          "output_type": "execute_result"
        }
      ],
      "source": [
        "# load model\n",
        "model = Classifier(input_dim=input_dim, hidden_layers=hidden_layers, hidden_dim=hidden_dim).to(device)\n",
        "model.load_state_dict(torch.load(model_path))"
      ]
    },
    {
      "cell_type": "markdown",
      "metadata": {
        "id": "zp-DV1p4r7Nz"
      },
      "source": [
        "Make prediction."
      ]
    },
    {
      "cell_type": "code",
      "execution_count": null,
      "metadata": {
        "id": "84HU5GGjPqR0"
      },
      "outputs": [
        {
          "name": "stderr",
          "output_type": "stream",
          "text": [
            "100%|██████████| 1031/1031 [00:02<00:00, 383.82it/s]\n"
          ]
        }
      ],
      "source": [
        "pred = np.array([], dtype=np.int32)\n",
        "\n",
        "model.eval()\n",
        "with torch.no_grad():\n",
        "    for i, batch in enumerate(tqdm(test_loader)):\n",
        "        features = batch\n",
        "        features = features.to(device)\n",
        "\n",
        "        outputs = model(features)\n",
        "\n",
        "        _, test_pred = torch.max(outputs, 1) # get the index of the class with the highest probability\n",
        "        pred = np.concatenate((pred, test_pred.cpu().numpy()), axis=0)\n"
      ]
    },
    {
      "cell_type": "markdown",
      "metadata": {
        "id": "wyZqy40Prz0v"
      },
      "source": [
        "Write prediction to a CSV file.\n",
        "\n",
        "After finish running this block, download the file `prediction.csv` from the files section on the left-hand side and submit it to Kaggle."
      ]
    },
    {
      "cell_type": "code",
      "execution_count": null,
      "metadata": {
        "id": "GuljYSPHcZir"
      },
      "outputs": [],
      "source": [
        "with open('prediction.csv', 'w') as f:\n",
        "    f.write('Id,Class\\n')\n",
        "    for i, y in enumerate(pred):\n",
        "        f.write('{},{}\\n'.format(i, y))"
      ]
    }
  ],
  "metadata": {
    "accelerator": "GPU",
    "colab": {
      "provenance": []
    },
    "kernelspec": {
      "display_name": "lhy",
      "language": "python",
      "name": "python3"
    },
    "language_info": {
      "codemirror_mode": {
        "name": "ipython",
        "version": 3
      },
      "file_extension": ".py",
      "mimetype": "text/x-python",
      "name": "python",
      "nbconvert_exporter": "python",
      "pygments_lexer": "ipython3",
      "version": "3.12.9"
    }
  },
  "nbformat": 4,
  "nbformat_minor": 0
}
